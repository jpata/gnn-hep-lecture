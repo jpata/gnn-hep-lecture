{
 "cells": [
  {
   "cell_type": "markdown",
   "id": "D37FSi5fGCxV",
   "metadata": {
    "id": "D37FSi5fGCxV"
   },
   "source": [
    "## Colab setup"
   ]
  },
  {
   "cell_type": "code",
   "execution_count": null,
   "id": "bteJODW48Tfy",
   "metadata": {
    "colab": {
     "base_uri": "https://localhost:8080/"
    },
    "id": "bteJODW48Tfy",
    "outputId": "67f337bb-5497-426d-ce90-f326d208867b"
   },
   "outputs": [],
   "source": [
    "# !pip install pandas numpy awkward0 uproot3_methods matplotlib\n",
    "# !pip3 install torch torchvision torchaudio\n",
    "\n",
    "# import os\n",
    "# import torch\n",
    "# os.environ['TORCH'] = torch.__version__\n",
    "# print(torch.__version__)\n",
    "\n",
    "# !pip install -q torch-geometric -f https://data.pyg.org/whl/torch-${TORCH}.html\n",
    "# !pip install -q torch-scatter -f https://data.pyg.org/whl/torch-${TORCH}.html\n",
    "# !pip install -q torch-sparse -f https://data.pyg.org/whl/torch-${TORCH}.html\n",
    "# !pip install -q torch-cluster -f https://data.pyg.org/whl/torch-${TORCH}.html"
   ]
  },
  {
   "cell_type": "code",
   "execution_count": null,
   "id": "noted-terror",
   "metadata": {
    "id": "noted-terror"
   },
   "outputs": [],
   "source": [
    "import pandas as pd\n",
    "import numpy as np\n",
    "import awkward0 as awkward\n",
    "import uproot3_methods as uproot_methods\n",
    "import matplotlib.pyplot as plt"
   ]
  },
  {
   "cell_type": "markdown",
   "id": "fluid-subject",
   "metadata": {
    "id": "fluid-subject"
   },
   "source": [
    "## Open HEP datasets\n",
    "\n",
    "### Top quark jet tagging\n",
    "- https://zenodo.org/record/2603256#.YKdfqSZRVH4\n",
    "- graph-level classification, regression\n",
    "- ~100k jets, ~100 constituents per jet\n",
    "\n",
    "\n",
    "### TrackML\n",
    "- https://zenodo.org/record/4730157#.YKetjy8RoWo\n",
    "- edge classification\n",
    "\n",
    "\n",
    "### MLPF\n",
    "- https://zenodo.org/record/4559324#.YKeuDS8RoWo\n",
    "- node classification and regression\n",
    "- ~50k events, ~5000 particles per event"
   ]
  },
  {
   "cell_type": "code",
   "execution_count": null,
   "id": "o3IiMyVU8lu5",
   "metadata": {
    "colab": {
     "base_uri": "https://localhost:8080/"
    },
    "id": "o3IiMyVU8lu5",
    "outputId": "90efe624-521c-497b-b8c1-8b46965d352e"
   },
   "outputs": [],
   "source": [
    "!wget -nc -O test.h5 https://zenodo.org/record/2603256/files/test.h5?download=1"
   ]
  },
  {
   "cell_type": "code",
   "execution_count": null,
   "id": "framed-empire",
   "metadata": {
    "id": "framed-empire"
   },
   "outputs": [],
   "source": [
    "#Read 10000 jets from top quark jet tagging\n",
    "df = pd.read_hdf(\"test.h5\", key=\"table\", start=0, stop=10000)"
   ]
  },
  {
   "cell_type": "code",
   "execution_count": null,
   "id": "younger-curve",
   "metadata": {
    "colab": {
     "base_uri": "https://localhost:8080/",
     "height": 300
    },
    "id": "younger-curve",
    "outputId": "9bb7d8fb-8a62-4a08-8dfc-c92a8501301a"
   },
   "outputs": [],
   "source": [
    "df.head()"
   ]
  },
  {
   "cell_type": "code",
   "execution_count": null,
   "id": "instant-unemployment",
   "metadata": {
    "id": "instant-unemployment",
    "scrolled": false
   },
   "outputs": [],
   "source": [
    "#based on https://github.com/hqucms/ParticleNet/blob/master/tf-keras/convert_dataset.ipynb\n",
    "def _col_list(prefix, max_particles=200):\n",
    "    return ['%s_%d'%(prefix,i) for i in range(max_particles)]\n",
    "\n",
    "def get_constituents(df):\n",
    "    _px = df[_col_list('PX')].values\n",
    "    _py = df[_col_list('PY')].values\n",
    "    _pz = df[_col_list('PZ')].values\n",
    "    _e = df[_col_list('E')].values\n",
    "\n",
    "    mask = _e>0\n",
    "    n_particles = np.sum(mask, axis=1)\n",
    "\n",
    "    px = awkward.JaggedArray.fromcounts(n_particles, _px[mask])\n",
    "    py = awkward.JaggedArray.fromcounts(n_particles, _py[mask])\n",
    "    pz = awkward.JaggedArray.fromcounts(n_particles, _pz[mask])\n",
    "    energy = awkward.JaggedArray.fromcounts(n_particles, _e[mask])\n",
    "\n",
    "    p4 = uproot_methods.TLorentzVectorArray.from_cartesian(px, py, pz, energy)\n",
    "    jet_p4 = p4.sum()\n",
    "\n",
    "    eta = jet_p4.eta - p4.eta\n",
    "    phi = jet_p4.delta_phi(p4)\n",
    "    pt = p4.pt / jet_p4.pt\n",
    "    label = df['is_signal_new'].values\n",
    "    \n",
    "    return pt, eta, phi, label\n",
    "\n",
    "pt, eta, phi, label = get_constituents(df)"
   ]
  },
  {
   "cell_type": "code",
   "execution_count": null,
   "id": "august-haiti",
   "metadata": {
    "colab": {
     "base_uri": "https://localhost:8080/"
    },
    "id": "august-haiti",
    "outputId": "e1f06f8e-6042-4051-ac16-b6ddf6ba0cae"
   },
   "outputs": [],
   "source": [
    "len(pt)"
   ]
  },
  {
   "cell_type": "code",
   "execution_count": null,
   "id": "several-albania",
   "metadata": {
    "colab": {
     "base_uri": "https://localhost:8080/"
    },
    "id": "several-albania",
    "outputId": "1f3b0fe9-f63d-46fa-f051-efd60b25d208"
   },
   "outputs": [],
   "source": [
    "pt.counts"
   ]
  },
  {
   "cell_type": "code",
   "execution_count": null,
   "id": "spread-mechanics",
   "metadata": {
    "colab": {
     "base_uri": "https://localhost:8080/",
     "height": 109
    },
    "id": "spread-mechanics",
    "outputId": "1bf54e49-b29f-4ee9-a857-9b5fc4c5df29"
   },
   "outputs": [],
   "source": [
    "bins = np.linspace(0,200,50)\n",
    "plt.hist(pt[label==1].counts, bins=bins, label=\"signal jets\", histtype=\"step\", lw=2);\n",
    "plt.hist(pt[label==0].counts, bins=bins, label=\"background jets\", histtype=\"step\", lw=2);\n",
    "plt.ylabel(\"Number of jets\")\n",
    "plt.xlabel(\"Number of constituents per jet\")\n",
    "plt.legend(frameon=False)"
   ]
  },
  {
   "cell_type": "markdown",
   "id": "referenced-reproduction",
   "metadata": {
    "id": "referenced-reproduction"
   },
   "source": [
    "## Let's plot a random sample of the signal and background jet constituents."
   ]
  },
  {
   "cell_type": "code",
   "execution_count": null,
   "id": "operational-chester",
   "metadata": {
    "colab": {
     "base_uri": "https://localhost:8080/",
     "height": 1000
    },
    "id": "operational-chester",
    "outputId": "b1d8da9b-5bb0-4662-ad8d-7517195dc2af"
   },
   "outputs": [],
   "source": [
    "random_indices = np.random.permutation(len(eta))\n",
    "plt.figure(figsize=(15,15))\n",
    "for iplt in range(1,26):\n",
    "    iptcl = random_indices[iplt]\n",
    "    ax = plt.subplot(5,5,iplt)\n",
    "    color = \"blue\"\n",
    "    if label[iptcl] == 1:\n",
    "        color = \"red\"\n",
    "    ax.scatter(eta[iptcl], phi[iptcl], s=100*pt[iptcl], marker=\"o\", color=color)\n",
    "    plt.xlabel(\"$\\Delta \\phi$\")\n",
    "    plt.ylabel(\"$\\Delta \\eta$\")\n",
    "    plt.title(\"Jet {}, $N_c={}$\\n$y={}$\".format(iptcl, len(eta[iptcl]), label[iptcl]))\n",
    "plt.tight_layout()"
   ]
  },
  {
   "cell_type": "markdown",
   "id": "covered-selection",
   "metadata": {
    "id": "covered-selection"
   },
   "source": [
    "## Creating a PyTorch dataset"
   ]
  },
  {
   "cell_type": "code",
   "execution_count": null,
   "id": "preceding-midnight",
   "metadata": {
    "id": "preceding-midnight"
   },
   "outputs": [],
   "source": [
    "import os.path as osp\n",
    "\n",
    "import torch\n",
    "from torch_geometric.data import Data, Dataset, DataLoader\n",
    "\n",
    "from torch_geometric.nn import knn_graph\n",
    "\n",
    "class TopTaggingDataset(Dataset):\n",
    "    def __init__(self, dataframe, knn_k=4):\n",
    "        super(TopTaggingDataset, self).__init__()\n",
    "        \n",
    "        self.knn_k = knn_k\n",
    "        pt, eta, phi, label = get_constituents(dataframe)\n",
    "        \n",
    "        self.pt = pt\n",
    "        self.eta = eta\n",
    "        self.phi = phi\n",
    "        self.label = label\n",
    "\n",
    "    def len(self):\n",
    "        return len(self.pt)\n",
    "\n",
    "    def get(self, idx):\n",
    "        \n",
    "        pt = torch.tensor(self.pt[idx]).to(torch.float32)\n",
    "        eta = torch.tensor(self.eta[idx]).to(torch.float32)\n",
    "        phi = torch.tensor(self.phi[idx]).to(torch.float32)\n",
    "        \n",
    "        label = torch.tensor(self.label[idx]).to(torch.float32)\n",
    "        \n",
    "        x = torch.stack([pt, eta, phi], axis=-1)\n",
    "        \n",
    "        #construct knn graph from (eta, phi) coordinates\n",
    "        edge_index = knn_graph(x[:, [1,2]], k=self.knn_k)\n",
    "        \n",
    "        data = Data(\n",
    "            x = x,\n",
    "            y = label,\n",
    "            edge_index = edge_index\n",
    "        )\n",
    "        \n",
    "        return data"
   ]
  },
  {
   "cell_type": "code",
   "execution_count": null,
   "id": "expired-intermediate",
   "metadata": {
    "colab": {
     "base_uri": "https://localhost:8080/"
    },
    "id": "expired-intermediate",
    "outputId": "c6800596-be64-46f9-9803-db3ecfb59c78"
   },
   "outputs": [],
   "source": [
    "dataset = TopTaggingDataset(df, knn_k=4)\n",
    "\n",
    "for i in range(10):\n",
    "    data = dataset.get(i)\n",
    "    print(data.x.shape, data.edge_index.shape, data.y)"
   ]
  },
  {
   "cell_type": "code",
   "execution_count": null,
   "id": "pacific-waste",
   "metadata": {
    "colab": {
     "base_uri": "https://localhost:8080/",
     "height": 628
    },
    "id": "pacific-waste",
    "outputId": "60bea1fb-cd94-4c00-b548-45fa35bf93df"
   },
   "outputs": [],
   "source": [
    "ijet = 10\n",
    "data = dataset.get(ijet)\n",
    "    \n",
    "plt.figure(figsize=(10, 10))\n",
    "plt.scatter(data.x[:, 1], data.x[:, 2], s=1000*data.x[:, 0]);\n",
    "plt.xlabel(\"$\\Delta \\eta$\")\n",
    "plt.xlabel(\"$\\Delta \\phi$\")"
   ]
  },
  {
   "cell_type": "code",
   "execution_count": null,
   "id": "satellite-world",
   "metadata": {
    "colab": {
     "base_uri": "https://localhost:8080/",
     "height": 366
    },
    "id": "satellite-world",
    "outputId": "85c568ae-3823-495e-93e0-b6960ee34c2e"
   },
   "outputs": [],
   "source": [
    "from torch_geometric.utils import to_dense_adj\n",
    "dense_adj = to_dense_adj(data.edge_index)\n",
    "\n",
    "plt.figure(figsize=(6,5))\n",
    "plt.imshow(dense_adj[0], interpolation=\"none\", cmap=\"Blues\")\n",
    "plt.colorbar()\n",
    "plt.xlabel(\"Node index $i$\")\n",
    "plt.ylabel(\"Node index $j$\")\n",
    "plt.title(\"Graph adjacency matrix\")"
   ]
  },
  {
   "cell_type": "code",
   "execution_count": null,
   "id": "digital-resource",
   "metadata": {
    "id": "digital-resource"
   },
   "outputs": [],
   "source": [
    "from torch_geometric.utils import to_networkx\n",
    "import networkx as nx"
   ]
  },
  {
   "cell_type": "code",
   "execution_count": null,
   "id": "spread-incident",
   "metadata": {
    "colab": {
     "base_uri": "https://localhost:8080/",
     "height": 592
    },
    "id": "spread-incident",
    "outputId": "eb23eecb-85f0-4408-e58d-e17a194625d5"
   },
   "outputs": [],
   "source": [
    "nxg = to_networkx(data)\n",
    "pos = {i: (data.x[i, 1], data.x[i, 2]) for i in nxg.nodes}\n",
    "\n",
    "plt.figure(figsize=(10, 10))\n",
    "ax = plt.axes()\n",
    "nx.draw_networkx(nxg, pos, with_labels=False, arrows=False, node_size=1000*data.x[:, 0], node_shape=\"o\", ax=ax)\n",
    "ax.tick_params(left=True, bottom=True, labelleft=True, labelbottom=True)\n"
   ]
  },
  {
   "cell_type": "markdown",
   "id": "american-workstation",
   "metadata": {
    "id": "american-workstation"
   },
   "source": [
    "## Batching the data"
   ]
  },
  {
   "cell_type": "code",
   "execution_count": null,
   "id": "played-artwork",
   "metadata": {
    "colab": {
     "base_uri": "https://localhost:8080/"
    },
    "id": "played-artwork",
    "outputId": "781215c8-1810-492a-829a-79e9033abd2a",
    "scrolled": false
   },
   "outputs": [],
   "source": [
    "loader = DataLoader(dataset, batch_size=10, shuffle=True)\n",
    "\n",
    "ibatch = 0\n",
    "for data_batched in loader:\n",
    "    print(ibatch, data_batched.x.shape, data_batched.y)\n",
    "    ibatch += 1\n",
    "    if ibatch>5:\n",
    "        break"
   ]
  },
  {
   "cell_type": "code",
   "execution_count": null,
   "id": "faced-flower",
   "metadata": {
    "colab": {
     "base_uri": "https://localhost:8080/",
     "height": 506
    },
    "id": "faced-flower",
    "outputId": "e8f2d804-d050-441e-b0ff-c8fadb59c51e"
   },
   "outputs": [],
   "source": [
    "dense_adj = to_dense_adj(data_batched.edge_index)\n",
    "\n",
    "plt.figure(figsize=(9,8))\n",
    "plt.imshow(dense_adj[0], interpolation=\"none\", cmap=\"Blues\")\n",
    "plt.colorbar()\n",
    "plt.xlabel(\"Node index $i$\")\n",
    "plt.xlabel(\"Node index $j$\")\n",
    "plt.title(\"Graph adjacency matrix\")"
   ]
  },
  {
   "cell_type": "code",
   "execution_count": null,
   "id": "encouraging-adolescent",
   "metadata": {
    "colab": {
     "base_uri": "https://localhost:8080/"
    },
    "id": "encouraging-adolescent",
    "outputId": "be8b7cfc-c43e-4e81-95d7-129c4df6a207"
   },
   "outputs": [],
   "source": [
    "data_batched.batch"
   ]
  },
  {
   "cell_type": "markdown",
   "id": "fallen-clerk",
   "metadata": {
    "id": "fallen-clerk"
   },
   "source": [
    "## Training a very simple GCN"
   ]
  },
  {
   "cell_type": "code",
   "execution_count": null,
   "id": "prompt-corrections",
   "metadata": {
    "id": "prompt-corrections"
   },
   "outputs": [],
   "source": [
    "from torch_geometric.nn import GCNConv, global_add_pool\n",
    "\n",
    "class Net(torch.nn.Module):\n",
    "    def __init__(self, num_node_features=3):\n",
    "        super(Net, self).__init__()\n",
    "        \n",
    "        #(3 -> 32)\n",
    "        self.conv1 = GCNConv(num_node_features, 32)\n",
    "        \n",
    "        #(32 -> 1)\n",
    "        self.output = torch.nn.Linear(32, 1)\n",
    "\n",
    "    def forward(self, data):\n",
    "        x, edge_index = data.x, data.edge_index\n",
    "        \n",
    "        #add a batch index, in in case we are running on a single graph\n",
    "        if not hasattr(data, \"batch\"):\n",
    "            data.batch = torch.zeros(len(x), dtype=torch.int64).to(x.device)\n",
    "        \n",
    "        #Transform the nodes with the graph convolution\n",
    "        transformed_nodes = self.conv1(x, edge_index)\n",
    "        transformed_nodes = torch.nn.functional.elu(transformed_nodes)\n",
    "        \n",
    "        #Sum up all the node vectors in each graph according to the batch index\n",
    "        per_graph_aggregation = global_add_pool(transformed_nodes, data.batch)\n",
    "        \n",
    "        #For each graph,\n",
    "        #predict the classification output based on the total vector\n",
    "        #from the previous aggregation step\n",
    "        output = self.output(per_graph_aggregation)\n",
    "        return torch.sigmoid(output)\n"
   ]
  },
  {
   "cell_type": "code",
   "execution_count": null,
   "id": "warming-texas",
   "metadata": {
    "id": "warming-texas"
   },
   "outputs": [],
   "source": [
    "net = Net()"
   ]
  },
  {
   "cell_type": "code",
   "execution_count": null,
   "id": "excessive-lancaster",
   "metadata": {
    "colab": {
     "base_uri": "https://localhost:8080/"
    },
    "id": "excessive-lancaster",
    "outputId": "519ec6e4-4fc0-4f1b-9383-da904fdc422c"
   },
   "outputs": [],
   "source": [
    "net(data_batched)"
   ]
  },
  {
   "cell_type": "code",
   "execution_count": null,
   "id": "cbHwZmWKIDra",
   "metadata": {
    "colab": {
     "base_uri": "https://localhost:8080/"
    },
    "id": "cbHwZmWKIDra",
    "outputId": "5ffe13af-7ca6-4155-a76f-ac05732db041"
   },
   "outputs": [],
   "source": [
    "\n",
    "net.state_dict().keys()"
   ]
  },
  {
   "cell_type": "code",
   "execution_count": null,
   "id": "romantic-murray",
   "metadata": {
    "colab": {
     "base_uri": "https://localhost:8080/"
    },
    "id": "romantic-murray",
    "outputId": "7b78328d-462b-4f4e-df8f-b67c89e2ee38"
   },
   "outputs": [],
   "source": [
    "net.state_dict()[\"conv1.lin.weight\"].shape, net.state_dict()[\"conv1.bias\"].shape"
   ]
  },
  {
   "cell_type": "code",
   "execution_count": null,
   "id": "classical-nelson",
   "metadata": {
    "colab": {
     "base_uri": "https://localhost:8080/",
     "height": 273
    },
    "id": "classical-nelson",
    "outputId": "096aeb47-c390-460d-cb13-3896dc34f0f6"
   },
   "outputs": [],
   "source": [
    "plt.title(\"Convolutional layer weights\")\n",
    "plt.imshow(net.state_dict()[\"conv1.lin.weight\"].detach().numpy().T, cmap=\"Blues\")\n",
    "plt.xlabel(\"feature dimension\")\n",
    "plt.ylabel(\"output dimension\")\n",
    "plt.xticks([0,1,2])\n",
    "plt.colorbar()"
   ]
  },
  {
   "cell_type": "code",
   "execution_count": null,
   "id": "incomplete-latin",
   "metadata": {
    "colab": {
     "base_uri": "https://localhost:8080/",
     "height": 313
    },
    "id": "incomplete-latin",
    "outputId": "99205f5c-1e49-4a7f-ecfd-ca2511a3f2b7"
   },
   "outputs": [],
   "source": [
    "plt.title(\"Convolutional layer bias\")\n",
    "plt.imshow(net.state_dict()[\"conv1.bias\"].unsqueeze(-1).detach().numpy(), cmap=\"Blues\")\n",
    "plt.xlabel(\"output dimenion\")\n",
    "plt.ylabel(\"feature dimension\")\n",
    "plt.xticks([0])\n",
    "plt.colorbar()"
   ]
  },
  {
   "cell_type": "code",
   "execution_count": null,
   "id": "independent-nelson",
   "metadata": {
    "colab": {
     "base_uri": "https://localhost:8080/"
    },
    "id": "independent-nelson",
    "outputId": "fda75f01-438e-4200-f0db-69a0c05ba174"
   },
   "outputs": [],
   "source": [
    "device = torch.device('cuda' if torch.cuda.is_available() else 'cpu')\n",
    "\n",
    "model = Net().to(device)\n",
    "\n",
    "optimizer = torch.optim.Adam(model.parameters(), lr=1e-3)\n",
    "\n",
    "model.train()\n",
    "losses_train = []\n",
    "\n",
    "for epoch in range(20):\n",
    "    \n",
    "    loss_train_epoch = []\n",
    "    \n",
    "    for data_batch in loader:\n",
    "        data_batch = data_batch.to(device)\n",
    "        \n",
    "        optimizer.zero_grad()\n",
    "        out = model(data_batch)\n",
    "        loss = torch.nn.functional.binary_cross_entropy(out[:, 0], data_batch.y)\n",
    "        \n",
    "        loss.backward()\n",
    "        loss_train_epoch.append(loss.item())\n",
    "        optimizer.step()\n",
    "        \n",
    "    loss_train_epoch = np.mean(loss_train_epoch)\n",
    "    losses_train.append(loss_train_epoch)\n",
    "    print(epoch, loss_train_epoch)"
   ]
  },
  {
   "cell_type": "code",
   "execution_count": null,
   "id": "neither-chain",
   "metadata": {
    "colab": {
     "base_uri": "https://localhost:8080/",
     "height": 297
    },
    "id": "neither-chain",
    "outputId": "684fdf14-29cf-4d2b-98a6-2e9066dbb791"
   },
   "outputs": [],
   "source": [
    "plt.plot(losses_train, label=\"training\")\n",
    "plt.ylabel(\"Loss\")\n",
    "plt.xlabel(\"epoch\")"
   ]
  },
  {
   "cell_type": "code",
   "execution_count": null,
   "id": "swiss-section",
   "metadata": {
    "colab": {
     "base_uri": "https://localhost:8080/"
    },
    "id": "swiss-section",
    "outputId": "514a0964-0cea-4d6b-ac2f-e4ba82070fe0"
   },
   "outputs": [],
   "source": [
    "model_parameters = filter(lambda p: p.requires_grad, model.parameters())\n",
    "params = sum([np.prod(p.size()) for p in model_parameters])\n",
    "params"
   ]
  },
  {
   "cell_type": "code",
   "execution_count": null,
   "id": "CRhB3tWFFNhh",
   "metadata": {
    "id": "CRhB3tWFFNhh"
   },
   "outputs": [],
   "source": []
  },
  {
   "cell_type": "code",
   "execution_count": null,
   "id": "palestinian-sheet",
   "metadata": {
    "colab": {
     "base_uri": "https://localhost:8080/",
     "height": 266
    },
    "id": "palestinian-sheet",
    "outputId": "1ce7fb83-d8e6-40c1-b363-d502eb478e32"
   },
   "outputs": [],
   "source": [
    "plt.title(\"Convolutional layer weights\")\n",
    "plt.imshow(model.state_dict()[\"conv1.lin.weight\"].detach().cpu().numpy().T, cmap=\"Blues\")\n",
    "plt.xlabel(\"feature dimension\")\n",
    "plt.ylabel(\"output dimension\")\n",
    "plt.xticks([0,1,2])\n",
    "plt.colorbar()"
   ]
  },
  {
   "cell_type": "code",
   "execution_count": null,
   "id": "dressed-smell",
   "metadata": {
    "colab": {
     "base_uri": "https://localhost:8080/",
     "height": 313
    },
    "id": "dressed-smell",
    "outputId": "ffd7fe57-e77f-47f3-e8cf-fe3e471e74dc"
   },
   "outputs": [],
   "source": [
    "plt.title(\"Convolutional layer bias\")\n",
    "plt.imshow(model.conv1.state_dict()[\"bias\"].unsqueeze(-1).detach().cpu().numpy(), cmap=\"Blues\")\n",
    "plt.xlabel(\"feature dimension\")\n",
    "plt.ylabel(\"output dimension\")\n",
    "plt.xticks([0])\n",
    "plt.colorbar()"
   ]
  },
  {
   "cell_type": "code",
   "execution_count": null,
   "id": "brown-surname",
   "metadata": {
    "id": "brown-surname"
   },
   "outputs": [],
   "source": [
    "data = dataset.get(ijet).to(device)\n",
    "embedded_nodes = model.conv1(data.x, data.edge_index)"
   ]
  },
  {
   "cell_type": "code",
   "execution_count": null,
   "id": "automated-omaha",
   "metadata": {
    "colab": {
     "base_uri": "https://localhost:8080/"
    },
    "id": "automated-omaha",
    "outputId": "2e5166f2-7096-4593-826c-81ed5fcb0a32"
   },
   "outputs": [],
   "source": [
    "data.x.shape, embedded_nodes.shape"
   ]
  },
  {
   "cell_type": "code",
   "execution_count": null,
   "id": "brave-rings",
   "metadata": {
    "colab": {
     "base_uri": "https://localhost:8080/",
     "height": 592
    },
    "id": "brave-rings",
    "outputId": "6853c67f-0868-492e-b0e9-6c9496b55fb9"
   },
   "outputs": [],
   "source": [
    "plt.figure(figsize=(10,10))\n",
    "plt.imshow(data.x.cpu().numpy(), interpolation=\"none\", cmap=\"Blues\")\n",
    "plt.colorbar()\n",
    "plt.xticks([0,1,2]);"
   ]
  },
  {
   "cell_type": "code",
   "execution_count": null,
   "id": "challenging-marble",
   "metadata": {
    "colab": {
     "base_uri": "https://localhost:8080/",
     "height": 592
    },
    "id": "challenging-marble",
    "outputId": "97cf4a0a-6eb7-4299-bff7-10b5edb7dc72"
   },
   "outputs": [],
   "source": [
    "plt.figure(figsize=(10,10))\n",
    "plt.imshow(embedded_nodes.detach().cpu().numpy(), interpolation=\"none\", cmap=\"Blues\")\n",
    "plt.colorbar()"
   ]
  },
  {
   "cell_type": "code",
   "execution_count": null,
   "id": "stuffed-belize",
   "metadata": {
    "id": "stuffed-belize"
   },
   "outputs": [],
   "source": [
    "model_cpu = model.to('cpu')"
   ]
  },
  {
   "cell_type": "code",
   "execution_count": null,
   "id": "smoking-warrior",
   "metadata": {
    "colab": {
     "base_uri": "https://localhost:8080/",
     "height": 1000
    },
    "id": "smoking-warrior",
    "outputId": "195e046e-23a5-4d6d-836a-d89efdb68b1d"
   },
   "outputs": [],
   "source": [
    "plt.figure(figsize=(15,15))\n",
    "for iplt in range(1,26):\n",
    "    iptcl = random_indices[iplt]\n",
    "    ax = plt.subplot(5,5,iplt)\n",
    "    data = dataset.get(iptcl)\n",
    "    \n",
    "    pred = model_cpu(data).detach()[0,0].item()\n",
    "    \n",
    "    color = \"blue\"\n",
    "    if data.y == 1:\n",
    "        color = \"red\"\n",
    "    \n",
    "    nxg = to_networkx(data)\n",
    "    pos = {i: (data.x[i, 1], data.x[i, 2]) for i in nxg.nodes}\n",
    "\n",
    "    nx.draw_networkx(\n",
    "        nxg, pos,\n",
    "        with_labels=False,\n",
    "        arrows=False,\n",
    "        node_size=100*data.x[:, 0],\n",
    "        node_shape=\"o\",\n",
    "        ax=ax\n",
    "    )\n",
    "    ax.tick_params(left=True, bottom=True, labelleft=True, labelbottom=True)\n",
    "\n",
    "    plt.xlabel(\"$\\Delta \\phi$\")\n",
    "    plt.ylabel(\"$\\Delta \\eta$\")\n",
    "    plt.title(\"Jet {}, $N_c={}$\\n$y={}$, $p={:.2f}$\".format(iptcl, len(eta[iptcl]), label[iptcl], pred))\n",
    "plt.tight_layout()"
   ]
  },
  {
   "cell_type": "markdown",
   "id": "registered-horror",
   "metadata": {
    "id": "registered-horror"
   },
   "source": [
    "## Dynamic graph network"
   ]
  },
  {
   "cell_type": "code",
   "execution_count": null,
   "id": "interpreted-lottery",
   "metadata": {
    "id": "interpreted-lottery"
   },
   "outputs": [],
   "source": [
    "class DynamicNet(torch.nn.Module):\n",
    "    def __init__(self, knn_k=4, num_node_features=3):\n",
    "        super(DynamicNet, self).__init__()\n",
    "        \n",
    "        self.knn_k = knn_k\n",
    "        \n",
    "        #(3 -> 32)\n",
    "        self.lin1 = torch.nn.Linear(num_node_features, 32)\n",
    "        \n",
    "        #(32 -> 32)\n",
    "        self.conv1 = GCNConv(32, 32)\n",
    "            \n",
    "        #(32 -> 1)\n",
    "        self.output = torch.nn.Linear(32, 1)\n",
    "\n",
    "    def forward(self, data):\n",
    "        x, edge_index = data.x, data.edge_index\n",
    "        \n",
    "        #add a batch index, in in case we are running on a single graph\n",
    "        if not hasattr(data, \"batch\"):\n",
    "            data.batch = torch.zeros(len(x), dtype=torch.int64).to(x.device)\n",
    "        \n",
    "        x = self.lin1(x)\n",
    "        \n",
    "        edge_index2 = knn_graph(x, k=self.knn_k, batch=data.batch)\n",
    "        x = self.conv1(x, edge_index2)\n",
    "        xg = global_add_pool(x, data.batch)\n",
    "        output = self.output(xg)\n",
    "        \n",
    "        return torch.sigmoid(output), edge_index2\n"
   ]
  },
  {
   "cell_type": "code",
   "execution_count": null,
   "id": "informative-wellington",
   "metadata": {
    "colab": {
     "base_uri": "https://localhost:8080/"
    },
    "id": "informative-wellington",
    "outputId": "6ef15b8d-fc1b-4d7f-c90f-d6833a809b7d"
   },
   "outputs": [],
   "source": [
    "device = torch.device('cuda' if torch.cuda.is_available() else 'cpu')\n",
    "net2 = DynamicNet().to(device)\n",
    "\n",
    "optimizer = torch.optim.Adam(net2.parameters(), lr=1e-3)\n",
    "\n",
    "model.train()\n",
    "losses_train = []\n",
    "\n",
    "for epoch in range(20):\n",
    "    \n",
    "    loss_train_epoch = []\n",
    "    \n",
    "    for data_batch in loader:\n",
    "        data_batch = data_batch.to(device)\n",
    "        \n",
    "        optimizer.zero_grad()\n",
    "        out, _ = net2(data_batch)\n",
    "        loss = torch.nn.functional.binary_cross_entropy(out[:, 0], data_batch.y)\n",
    "        \n",
    "        loss.backward()\n",
    "        loss_train_epoch.append(loss.item())\n",
    "        optimizer.step()\n",
    "        \n",
    "    loss_train_epoch = np.mean(loss_train_epoch)\n",
    "    losses_train.append(loss_train_epoch)\n",
    "    print(epoch, loss_train_epoch)"
   ]
  },
  {
   "cell_type": "code",
   "execution_count": null,
   "id": "placed-constant",
   "metadata": {
    "colab": {
     "base_uri": "https://localhost:8080/",
     "height": 1000
    },
    "id": "placed-constant",
    "outputId": "88b9289d-86d0-47b5-9216-698cbafdf9ee"
   },
   "outputs": [],
   "source": [
    "net2_cpu = net2.cpu()\n",
    "\n",
    "plt.figure(figsize=(15,15))\n",
    "for iplt in range(1,26):\n",
    "    iptcl = random_indices[iplt]\n",
    "    ax = plt.subplot(5,5,iplt)\n",
    "    data = dataset.get(iptcl)\n",
    "    \n",
    "    pred, edge_index = net2_cpu(data)\n",
    "    pred = pred.detach().item()\n",
    "    \n",
    "    data.edge_index = edge_index\n",
    "    \n",
    "    color = \"blue\"\n",
    "    if data.y == 1:\n",
    "        color = \"red\"\n",
    "    \n",
    "    nxg = to_networkx(data)\n",
    "    pos = {i: (data.x[i, 1], data.x[i, 2]) for i in nxg.nodes}\n",
    "\n",
    "    nx.draw_networkx(\n",
    "        nxg, pos,\n",
    "        with_labels=False,\n",
    "        arrows=False,\n",
    "        node_size=100*data.x[:, 0],\n",
    "        node_shape=\"o\",\n",
    "        ax=ax\n",
    "    )\n",
    "    ax.tick_params(left=True, bottom=True, labelleft=True, labelbottom=True)\n",
    "\n",
    "    plt.xlabel(\"$\\Delta \\phi$\")\n",
    "    plt.ylabel(\"$\\Delta \\eta$\")\n",
    "    plt.title(\"Jet {}, $N_c={}$\\n$y={}$, $p={:.2f}$\".format(iptcl, len(eta[iptcl]), label[iptcl], pred))\n",
    "plt.tight_layout()"
   ]
  }
 ],
 "metadata": {
  "colab": {
   "provenance": []
  },
  "kernelspec": {
   "display_name": "Python 3 (ipykernel)",
   "language": "python",
   "name": "python3"
  },
  "language_info": {
   "codemirror_mode": {
    "name": "ipython",
    "version": 3
   },
   "file_extension": ".py",
   "mimetype": "text/x-python",
   "name": "python",
   "nbconvert_exporter": "python",
   "pygments_lexer": "ipython3",
   "version": "3.10.6"
  }
 },
 "nbformat": 4,
 "nbformat_minor": 5
}
